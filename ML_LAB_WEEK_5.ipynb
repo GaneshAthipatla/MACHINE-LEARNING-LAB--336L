{
  "nbformat": 4,
  "nbformat_minor": 0,
  "metadata": {
    "colab": {
      "provenance": [],
      "authorship_tag": "ABX9TyPYdi+XVDp2reWXxmZrjYZo",
      "include_colab_link": true
    },
    "kernelspec": {
      "name": "python3",
      "display_name": "Python 3"
    },
    "language_info": {
      "name": "python"
    }
  },
  "cells": [
    {
      "cell_type": "markdown",
      "metadata": {
        "id": "view-in-github",
        "colab_type": "text"
      },
      "source": [
        "<a href=\"https://colab.research.google.com/github/GaneshAthipatla/MACHINE-LEARNING-LAB--336L/blob/main/ML_LAB_WEEK_5.ipynb\" target=\"_parent\"><img src=\"https://colab.research.google.com/assets/colab-badge.svg\" alt=\"Open In Colab\"/></a>"
      ]
    },
    {
      "cell_type": "markdown",
      "source": [
        "### 1. Create a vector (array) of 1XN dimension representing N-dimensional feature vector of a sample. Write a program to compute the mean and variance of the elements present in the array.\n",
        "\n"
      ],
      "metadata": {
        "id": "IRLyebl6cF8b"
      }
    },
    {
      "cell_type": "code",
      "source": [
        "import numpy as np\n",
        "\n",
        "\n",
        "li1 = list(map(int,input().split()))\n",
        "li2 = list(map(int,input().split()))\n",
        "x = np.array(li1)\n",
        "y = np.array(li2)\n",
        "\n"
      ],
      "metadata": {
        "colab": {
          "base_uri": "https://localhost:8080/"
        },
        "id": "7UPU8QuTa9Ym",
        "outputId": "2a278417-9add-4aa6-89cd-c0d697103740"
      },
      "execution_count": 3,
      "outputs": [
        {
          "name": "stdout",
          "output_type": "stream",
          "text": [
            "5 8 7 6 5\n",
            "9  4  5  6  7\n"
          ]
        }
      ]
    },
    {
      "cell_type": "code",
      "source": [
        "import math\n",
        "def sample_variance(x):\n",
        "  leng = len(x)\n",
        "  x_dash = np.mean(x)\n",
        "  x1 = x - x_dash\n",
        "  x_square = np.square(x1)\n",
        "  x_sum = sum(x_square)\n",
        "  result = x_sum/(leng-1)\n",
        "  return result\n",
        "def population_variance(x):\n",
        "  leng = len(x)\n",
        "  x_dash = np.mean(x)\n",
        "  x1 = x - x_dash\n",
        "  x_square = np.square(x1)\n",
        "  x_sum = sum(x_square)\n",
        "  result = x_sum/(leng)\n",
        "  return result"
      ],
      "metadata": {
        "id": "16Se59-AbpI7"
      },
      "execution_count": 6,
      "outputs": []
    },
    {
      "cell_type": "code",
      "source": [
        "print(\"Mean: \",np.mean(x))\n",
        "print(\"Sample: \",sample_variance(x))\n",
        "print(\"Variance: \",population_variance(x))"
      ],
      "metadata": {
        "colab": {
          "base_uri": "https://localhost:8080/"
        },
        "id": "dLt5zEm7bxjs",
        "outputId": "4032e800-7102-45fd-f77f-60b4a1b80ef2"
      },
      "execution_count": 7,
      "outputs": [
        {
          "output_type": "stream",
          "name": "stdout",
          "text": [
            "Mean:  6.2\n",
            "Sample:  1.7\n",
            "Variance:  1.3599999999999999\n"
          ]
        }
      ]
    },
    {
      "cell_type": "markdown",
      "source": [
        "### 2.Create two vectors each of dimension 1XM each representing N-dimensional feature vector of a sample. Write a program to compute the Covariance between them.\n"
      ],
      "metadata": {
        "id": "kJsX1KN6b3rI"
      }
    },
    {
      "cell_type": "code",
      "source": [
        "def Sample_covariance(x,y):\n",
        "  leng = len(x)\n",
        "  x_dash = np.mean(x)\n",
        "  y_dash = np.mean(y)\n",
        "  x1 = x - x_dash\n",
        "  y1 = y - y_dash\n",
        "  x_mul_y = np.multiply(x1,y1)\n",
        "  xy_sum = sum(x_mul_y)\n",
        "  result = xy_sum/(leng-1)\n",
        "  return result\n",
        "def population_covariance(x,y):\n",
        "  leng = len(x)\n",
        "  x_dash = np.mean(x)\n",
        "  y_dash = np.mean(y)\n",
        "  x1 = x - x_dash\n",
        "  y1 = y - y_dash\n",
        "  x_mul_y = np.multiply(x1,y1)\n",
        "  xy_sum = sum(x_mul_y)\n",
        "  result = xy_sum/(leng)\n",
        "  return result"
      ],
      "metadata": {
        "id": "ceqZcrV7b7xG"
      },
      "execution_count": 8,
      "outputs": []
    },
    {
      "cell_type": "code",
      "source": [
        "print(\"Sample Covariance: \",Sample_covariance(x,y))\n",
        "print(\"Population Covariance: \",population_covariance(x,y))"
      ],
      "metadata": {
        "colab": {
          "base_uri": "https://localhost:8080/"
        },
        "id": "tZumn444cQju",
        "outputId": "0ac69369-a945-48d1-df53-885c999be064"
      },
      "execution_count": 9,
      "outputs": [
        {
          "output_type": "stream",
          "name": "stdout",
          "text": [
            "Sample Covariance:  -2.3\n",
            "Population Covariance:  -1.8399999999999999\n"
          ]
        }
      ]
    },
    {
      "cell_type": "markdown",
      "source": [
        "### 3.Create two vectors each of dimension 1XN. Write a program to compute the Correlation between them.\n"
      ],
      "metadata": {
        "id": "gSSWvlVscbuO"
      }
    },
    {
      "cell_type": "code",
      "source": [
        "import math\n",
        "def correlation(x,y):\n",
        "  cov = population_covariance(x,y)\n",
        "  x_var = population_variance(x)\n",
        "  y_var = population_variance(y)\n",
        "  x_y = (x_var*y_var)\n",
        "  x_sqrt = math.sqrt(x_y)\n",
        "  result = cov/x_sqrt\n",
        "  return result"
      ],
      "metadata": {
        "id": "vhO-v2Docgv4"
      },
      "execution_count": 10,
      "outputs": []
    },
    {
      "cell_type": "code",
      "source": [
        "print(\"Correlation: \",correlation(x,y))"
      ],
      "metadata": {
        "colab": {
          "base_uri": "https://localhost:8080/"
        },
        "id": "FOex9Msjcm89",
        "outputId": "97cbedb4-bb5a-4a11-cdc8-ef7151612e53"
      },
      "execution_count": 11,
      "outputs": [
        {
          "output_type": "stream",
          "name": "stdout",
          "text": [
            "Correlation:  -0.9170700562532349\n"
          ]
        }
      ]
    },
    {
      "cell_type": "markdown",
      "source": [
        "### 4. Create a Matrix of MXN dimension representing the M-dimensional feature vector for N number of samples i. e (i,j)th entry of the matrix represents the ith feature of jth sample. Write a program to compute the covariance matrix and correlation matrix. Comment on takeaways from these matrixes."
      ],
      "metadata": {
        "id": "Bo6boogUcxdc"
      }
    },
    {
      "cell_type": "code",
      "source": [
        "def mean(vector):\n",
        "    return sum(vector) / len(vector)\n",
        "\n",
        "def covariance(x, y):\n",
        "    if len(x) != len(y):\n",
        "        raise ValueError(\"Vectors must have the same length\")\n",
        "    x_mean = mean(x)\n",
        "    y_mean = mean(y)\n",
        "    cov = sum((x[i] - x_mean) * (y[i] - y_mean) for i in range(len(x))) / (len(x) - 1)\n",
        "    return cov\n",
        "\n",
        "def correlation(x, y):\n",
        "    cov = covariance(x, y)\n",
        "    x_std = (sum((i - mean(x)) ** 2 for i in x) / (len(x) - 1)) ** 0.5\n",
        "    y_std = (sum((i - mean(y)) ** 2 for i in y) / (len(y) - 1)) ** 0.5\n",
        "    corr = cov / (x_std * y_std)\n",
        "    return corr\n",
        "\n",
        "def compute_covariance_matrix(data):\n",
        "    n = len(data[0])\n",
        "    m = len(data)\n",
        "    covariance_matrix = [[0] * m for _ in range(m)]\n",
        "    for i in range(m):\n",
        "        for j in range(m):\n",
        "            covariance_matrix[i][j] = covariance(data[i], data[j])\n",
        "    return covariance_matrix\n",
        "\n",
        "\n",
        "\n",
        "def compute_correlation_matrix(data):\n",
        "    m = len(data)  # Number of features\n",
        "    correlation_matrix = [[0] * m for _ in range(m)]\n",
        "    for i in range(m):\n",
        "        for j in range(m):\n",
        "            correlation_matrix[i][j] = correlation(data[i], data[j])\n",
        "    return correlation_matrix\n",
        "\n",
        "\n",
        "# Example function to generate sample data\n",
        "import random\n",
        "\n",
        "def generate_sample_data(M, N):\n",
        "    return [[random.random() for _ in range(N)] for _ in range(M)]\n",
        "\n",
        "def main():\n",
        "    # Define dimensions\n",
        "    M = 5  # Number of features\n",
        "    N = 100  # Number of samples\n",
        "\n",
        "    # Generate sample data\n",
        "    data = generate_sample_data(M, N)\n",
        "\n",
        "    # Compute covariance matrix\n",
        "    covariance_matrix = compute_covariance_matrix(data)\n",
        "    print(\"Covariance Matrix:\")\n",
        "    for row in covariance_matrix:\n",
        "        print(row)\n",
        "\n",
        "    # Compute correlation matrix\n",
        "    correlation_matrix = compute_correlation_matrix(data)\n",
        "    print(\"\\nCorrelation Matrix:\")\n",
        "    for row in correlation_matrix:\n",
        "        print(row)\n",
        "\n",
        "if __name__ == \"__main__\":\n",
        "    main()\n"
      ],
      "metadata": {
        "colab": {
          "base_uri": "https://localhost:8080/"
        },
        "id": "gPD4jE0Kcy05",
        "outputId": "eae45ee1-ed06-467f-aa65-b599d604cca4"
      },
      "execution_count": 12,
      "outputs": [
        {
          "output_type": "stream",
          "name": "stdout",
          "text": [
            "Covariance Matrix:\n",
            "[0.08639185175352923, 0.02199658928022272, 0.008711968210885213, -0.0053770644800879615, 0.0029645340039175165]\n",
            "[0.02199658928022272, 0.08631697485023247, 0.007363170136486827, 0.005110670202134847, 0.013516911556720268]\n",
            "[0.008711968210885213, 0.007363170136486827, 0.08573450468645027, 0.00040093442177784484, 0.008770167339472694]\n",
            "[-0.0053770644800879615, 0.005110670202134847, 0.00040093442177784484, 0.07880504737525541, 0.001342620146213978]\n",
            "[0.0029645340039175165, 0.013516911556720268, 0.008770167339472694, 0.001342620146213978, 0.07478907888913973]\n",
            "\n",
            "Correlation Matrix:\n",
            "[1.0000000000000002, 0.25472457638698714, 0.10122832925858033, -0.06516761631076881, 0.03688085260927302]\n",
            "[0.25472457638698714, 1.0000000000000002, 0.0855931300574085, 0.06196589595278591, 0.16823264547878003]\n",
            "[0.10122832925858033, 0.0855931300574085, 0.9999999999999999, 0.004877738401584711, 0.1095244210658904]\n",
            "[-0.06516761631076881, 0.06196589595278591, 0.004877738401584711, 1.0, 0.01748868075725101]\n",
            "[0.03688085260927302, 0.16823264547878003, 0.1095244210658904, 0.01748868075725101, 1.0000000000000002]\n"
          ]
        }
      ]
    }
  ]
}