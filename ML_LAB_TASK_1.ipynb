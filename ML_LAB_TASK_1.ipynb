{
  "nbformat": 4,
  "nbformat_minor": 0,
  "metadata": {
    "colab": {
      "provenance": []
    },
    "kernelspec": {
      "name": "python3",
      "display_name": "Python 3"
    },
    "language_info": {
      "name": "python"
    }
  },
  "cells": [
    {
      "cell_type": "code",
      "execution_count": 1,
      "metadata": {
        "colab": {
          "base_uri": "https://localhost:8080/"
        },
        "id": "pR6VRKrJ-b8O",
        "outputId": "9c0bd10f-a848-4a41-a928-e436499bffbc"
      },
      "outputs": [
        {
          "output_type": "stream",
          "name": "stdout",
          "text": [
            "Array 1: [1 2 3 4]\n",
            "Array 2: [5 6 7 8]\n",
            "Element-wise multiplication result: [ 5 12 21 32]\n"
          ]
        }
      ],
      "source": [
        "#1)Write a NumPy program to multiply two given arrays of same size element-by-element.\n",
        "import numpy as np\n",
        "array1 = np.array([1, 2, 3, 4])\n",
        "array2 = np.array([5, 6, 7, 8])\n",
        "result = array1 * array2\n",
        "print(\"Array 1:\", array1)\n",
        "print(\"Array 2:\", array2)\n",
        "print(\"Element-wise multiplication result:\", result)\n"
      ]
    },
    {
      "cell_type": "code",
      "source": [
        "#2)Write a NumPy program to find the missing data in a given array.\n",
        "import numpy as np\n",
        "array_with_missing_data = np.array([1, 2, np.nan, 4, np.nan, 6])\n",
        "missing_data = np.where(np.isnan(array_with_missing_data))\n",
        "\n",
        "\n",
        "print(\"missing data:\", missing_data)\n",
        "\n"
      ],
      "metadata": {
        "colab": {
          "base_uri": "https://localhost:8080/"
        },
        "id": "ICQAWuoIAUsY",
        "outputId": "39885aac-fb04-4c90-9c0a-ea7078748ee3"
      },
      "execution_count": 7,
      "outputs": [
        {
          "output_type": "stream",
          "name": "stdout",
          "text": [
            "missing data: (array([2, 4]),)\n"
          ]
        }
      ]
    },
    {
      "cell_type": "code",
      "source": [
        "#3)Write a NumPy program to test whether each element of a 1-D array is also present in a second array.\n",
        "import numpy as np\n",
        "\n",
        "first_array = np.array([1, 2, 3, 4, 5])\n",
        "second_array = np.array([5, 6, 7, 8, 9])\n",
        "np.array_equal(first_array,second_array)\n",
        "\n",
        "\n"
      ],
      "metadata": {
        "colab": {
          "base_uri": "https://localhost:8080/"
        },
        "id": "1UZY0evkBH7H",
        "outputId": "2dc84038-66bd-41d4-f6ad-aa86f9dffc34"
      },
      "execution_count": 9,
      "outputs": [
        {
          "output_type": "execute_result",
          "data": {
            "text/plain": [
              "False"
            ]
          },
          "metadata": {},
          "execution_count": 9
        }
      ]
    },
    {
      "cell_type": "code",
      "source": [
        "#4)Write a NumPy program to save a NumPy array to a text file.\n",
        "import numpy as np\n",
        "\n",
        "\n",
        "my_array = np.array([[1, 2, 3],\n",
        "                     [4, 5, 6],\n",
        "                     [7, 8, 9]])\n",
        "\n",
        "\n",
        "file_path = \"my_array.txt\"\n",
        "\n",
        "\n",
        "np.savetxt(file_path, my_array)\n",
        "\n",
        "print(\"Array has been saved to:\", file_path)\n"
      ],
      "metadata": {
        "colab": {
          "base_uri": "https://localhost:8080/"
        },
        "id": "YuydTCm0BMaS",
        "outputId": "58a71e08-6c5e-4a26-8099-441fbd6e6e7d"
      },
      "execution_count": 8,
      "outputs": [
        {
          "output_type": "stream",
          "name": "stdout",
          "text": [
            "Array has been saved to: my_array.txt\n"
          ]
        }
      ]
    },
    {
      "cell_type": "code",
      "source": [
        "#5)Write a NumPy program to Create a 1-D array of 30 evenly spaced elements between 2.5. and 6.5, inclusive.\n",
        "import numpy as np\n",
        "\n",
        "result_array = np.linspace(2.5, 6.5, 30)\n",
        "\n",
        "print(\"1-D array of 30 evenly spaced elements between 2.5 and 6.5 (inclusive):\")\n",
        "print(result_array)\n"
      ],
      "metadata": {
        "colab": {
          "base_uri": "https://localhost:8080/"
        },
        "id": "8ZsCfckNBkFZ",
        "outputId": "179086d8-8fc3-4bf1-f4e7-99573c69b062"
      },
      "execution_count": 4,
      "outputs": [
        {
          "output_type": "stream",
          "name": "stdout",
          "text": [
            "1-D array of 30 evenly spaced elements between 2.5 and 6.5 (inclusive):\n",
            "[2.5        2.63793103 2.77586207 2.9137931  3.05172414 3.18965517\n",
            " 3.32758621 3.46551724 3.60344828 3.74137931 3.87931034 4.01724138\n",
            " 4.15517241 4.29310345 4.43103448 4.56896552 4.70689655 4.84482759\n",
            " 4.98275862 5.12068966 5.25862069 5.39655172 5.53448276 5.67241379\n",
            " 5.81034483 5.94827586 6.0862069  6.22413793 6.36206897 6.5       ]\n"
          ]
        }
      ]
    },
    {
      "cell_type": "code",
      "source": [
        "#1)Write a Pandas program to convert Series of lists to one Series.\n",
        "import pandas as pd\n",
        "series_of_lists = pd.Series([[1, 2, 3], [4, 5], [6, 7, 8]])\n",
        "one_series = series_of_lists.explode()\n",
        "\n",
        "print(\"Series of lists:\")\n",
        "print(series_of_lists)\n",
        "print(\"\\nOne Series:\")\n",
        "print(one_series)\n"
      ],
      "metadata": {
        "colab": {
          "base_uri": "https://localhost:8080/"
        },
        "id": "Yeqt8kFZGr46",
        "outputId": "522fe09b-7c27-4d08-960e-1dde8cf22f90"
      },
      "execution_count": 10,
      "outputs": [
        {
          "output_type": "stream",
          "name": "stdout",
          "text": [
            "Series of lists:\n",
            "0    [1, 2, 3]\n",
            "1       [4, 5]\n",
            "2    [6, 7, 8]\n",
            "dtype: object\n",
            "\n",
            "One Series:\n",
            "0    1\n",
            "0    2\n",
            "0    3\n",
            "1    4\n",
            "1    5\n",
            "2    6\n",
            "2    7\n",
            "2    8\n",
            "dtype: object\n"
          ]
        }
      ]
    },
    {
      "cell_type": "code",
      "source": [
        "#2Write a Pandas program to create a subset of a given series based on value and condition.\n",
        "import pandas as pd\n",
        "\n",
        "data = {'A': [1, 2, 3, 4, 5],\n",
        "        'B': ['a', 'b', 'c', 'd', 'e']}\n",
        "series = pd.Series(data['A'], index=data['B'])\n",
        "\n",
        "condition = series > 3\n",
        "\n",
        "\n",
        "subset = series[condition]\n",
        "\n",
        "print(\"Original Series:\")\n",
        "print(series)\n",
        "print(\"\\nSubset based on condition (value > 3):\")\n",
        "print(subset)\n"
      ],
      "metadata": {
        "colab": {
          "base_uri": "https://localhost:8080/"
        },
        "id": "TwWySPWoHJiX",
        "outputId": "0847c3fb-0556-4674-82ac-dc5428c3e225"
      },
      "execution_count": 11,
      "outputs": [
        {
          "output_type": "stream",
          "name": "stdout",
          "text": [
            "Original Series:\n",
            "a    1\n",
            "b    2\n",
            "c    3\n",
            "d    4\n",
            "e    5\n",
            "dtype: int64\n",
            "\n",
            "Subset based on condition (value > 3):\n",
            "d    4\n",
            "e    5\n",
            "dtype: int64\n"
          ]
        }
      ]
    },
    {
      "cell_type": "code",
      "source": [
        "#3)Write a Pandas program to display most frequent value in a given series and replace everything else as 'Other' in the series.\n",
        "import pandas as pd\n",
        "\n",
        "data = {'A': ['a', 'b', 'a', 'c', 'b', 'a']}\n",
        "series = pd.Series(data['A'])\n",
        "most_frequent_value = series.mode()[0]\n",
        "series = series.apply(lambda x: x if x == most_frequent_value else 'Other')\n",
        "\n",
        "print(\"Original Series:\")\n",
        "print(series)\n"
      ],
      "metadata": {
        "colab": {
          "base_uri": "https://localhost:8080/"
        },
        "id": "NzkSeL5RJiN4",
        "outputId": "ab8d9fe9-6132-4889-dae4-1ef0ae9d354d"
      },
      "execution_count": 12,
      "outputs": [
        {
          "output_type": "stream",
          "name": "stdout",
          "text": [
            "Original Series:\n",
            "0        a\n",
            "1    Other\n",
            "2        a\n",
            "3    Other\n",
            "4    Other\n",
            "5        a\n",
            "dtype: object\n"
          ]
        }
      ]
    },
    {
      "cell_type": "code",
      "source": [
        "#4)Write a Pandas program to find the positions of numbers that are multiples of 5 of a given series.\n",
        "import pandas as pd\n",
        "data = {'A': [10, 15, 20, 25, 30, 35, 40]}\n",
        "series = pd.Series(data['A'])\n",
        "multiples_of_5_positions = series.index[series % 5 == 0]\n",
        "\n",
        "print(\"Original Series:\")\n",
        "print(series)\n",
        "print(\"\\nPositions of numbers that are multiples of 5:\")\n",
        "print(multiples_of_5_positions)\n"
      ],
      "metadata": {
        "colab": {
          "base_uri": "https://localhost:8080/"
        },
        "id": "2RXnwd1ZKAoz",
        "outputId": "3f7b5db5-bb03-4fee-f772-248ed7619f3d"
      },
      "execution_count": 13,
      "outputs": [
        {
          "output_type": "stream",
          "name": "stdout",
          "text": [
            "Original Series:\n",
            "0    10\n",
            "1    15\n",
            "2    20\n",
            "3    25\n",
            "4    30\n",
            "5    35\n",
            "6    40\n",
            "dtype: int64\n",
            "\n",
            "Positions of numbers that are multiples of 5:\n",
            "Int64Index([0, 1, 2, 3, 4, 5, 6], dtype='int64')\n"
          ]
        }
      ]
    },
    {
      "cell_type": "code",
      "source": [
        "#5)Write a Pandas program to calculate the number of characters in each word in a given series.\n",
        "\n",
        "import pandas as pd\n",
        "\n",
        "\n",
        "s = pd.Series(['golden', 'banana', 'cherry', 'cat', 'elephant'])\n",
        "def g(s):\n",
        "    return s.str.len()\n",
        "\n",
        "result = g(s.copy())\n",
        "print(result)\n",
        "\n"
      ],
      "metadata": {
        "colab": {
          "base_uri": "https://localhost:8080/"
        },
        "id": "RC-5Z5hgKw5Z",
        "outputId": "7ede5ae4-9545-4eb0-a948-afcecd5d1bcb"
      },
      "execution_count": 14,
      "outputs": [
        {
          "output_type": "stream",
          "name": "stdout",
          "text": [
            "0    5\n",
            "1    6\n",
            "2    6\n",
            "3    3\n",
            "4    8\n",
            "dtype: int64\n"
          ]
        }
      ]
    },
    {
      "cell_type": "code",
      "source": [
        "#6)Write a Pandas program to convert year-month string to dates adding a specified day of the month.\n",
        "\n",
        "import pandas as pd\n",
        "\n",
        "\n",
        "dates = pd.Series(['2023-01', '2023-02', '2023-03', '2023-04', '2023-05'])\n",
        "day = 15\n",
        "\n",
        "def g(dates, day):\n",
        "    return pd.to_datetime(dates + '-' + str(day), format='%Y-%m-%d')\n",
        "\n",
        "result = g(dates.copy(), day)\n",
        "print(result)\n",
        "\n"
      ],
      "metadata": {
        "colab": {
          "base_uri": "https://localhost:8080/"
        },
        "id": "LVNsiic_MXVy",
        "outputId": "60a1601e-3115-4fc0-ec6b-4f6086c7cf89"
      },
      "execution_count": 15,
      "outputs": [
        {
          "output_type": "stream",
          "name": "stdout",
          "text": [
            "0   2023-01-15\n",
            "1   2023-02-15\n",
            "2   2023-03-15\n",
            "3   2023-04-15\n",
            "4   2023-05-15\n",
            "dtype: datetime64[ns]\n"
          ]
        }
      ]
    },
    {
      "cell_type": "code",
      "source": [
        "#7)Write a Pandas program to create and display a DataFrame from a specified dictionary data which has the index labels.\n",
        "\n",
        "import pandas as pd\n",
        "\n",
        "data = {'Name': ['Shannu', 'Ganesh', 'Vivek', 'Sharan', 'Teja'],\n",
        "        'Age': [25, 23, 22, 28, 27],\n",
        "        'City': ['Guntur', 'Vijayawada', 'Ongole', 'Khamam', 'Mangalagiri']}\n",
        "\n",
        "df = pd.DataFrame(data, index=['A', 'B', 'C', 'D', 'E'])\n",
        "\n",
        "print(df)\n",
        "\n"
      ],
      "metadata": {
        "colab": {
          "base_uri": "https://localhost:8080/"
        },
        "id": "P-Ez8D5PMr_p",
        "outputId": "97259cb9-ec80-49ae-d107-402bb19ee5d0"
      },
      "execution_count": 23,
      "outputs": [
        {
          "output_type": "stream",
          "name": "stdout",
          "text": [
            "     Name  Age         City\n",
            "A  Shannu   25       Guntur\n",
            "B  Ganesh   23   Vijayawada\n",
            "C   Vivek   22       Ongole\n",
            "D  Sharan   28       Khamam\n",
            "E    Teja   27  Mangalagiri\n"
          ]
        }
      ]
    },
    {
      "cell_type": "code",
      "source": [
        "#8)Write a Pandas program to select the rows where the number of attempts in the examination is greater than 2.\n",
        "\n",
        "import pandas as pd\n",
        "\n",
        "\n",
        "exam_data = {'name': ['Michael', 'Andy', 'Dwight', 'Jim', 'Pam'],\n",
        "             'attempts': [1, 3, 2, 1, 4]}\n",
        "\n",
        "df = pd.DataFrame(exam_data)\n",
        "\n",
        "filtered_df = df[df['attempts'] > 2]\n",
        "\n",
        "print(filtered_df)\n",
        "\n"
      ],
      "metadata": {
        "colab": {
          "base_uri": "https://localhost:8080/"
        },
        "id": "CKpCPtM1M-2t",
        "outputId": "2cca0519-6359-4498-c331-8ec25427b291"
      },
      "execution_count": 17,
      "outputs": [
        {
          "output_type": "stream",
          "name": "stdout",
          "text": [
            "   name  attempts\n",
            "1  Andy         3\n",
            "4   Pam         4\n"
          ]
        }
      ]
    },
    {
      "cell_type": "code",
      "source": [
        "#9)Write a Pandas program to append a new row &#39;k&#39; to data frame with given values for each column. Now delete the new row and return the original DataFrame.\n",
        "import pandas as pd\n",
        "\n",
        "\n",
        "exam_data = {'name': ['Shannu', 'Mandy', 'Ram', 'Jim', 'Pam'],\n",
        "            'score': [85, 77, 92, 88, 95]}\n",
        "\n",
        "df = pd.DataFrame(exam_data)\n",
        "\n",
        "def append_and_restore(df):\n",
        "   k = {'name': 'Oscar', 'score': 81}\n",
        "   new_df = df.append(k, ignore_index=True)\n",
        "   original_df = new_df.iloc[:-1, :]\n",
        "   return original_df\n",
        "\n",
        "restored_df = append_and_restore(df.copy())\n",
        "print(restored_df)\n"
      ],
      "metadata": {
        "colab": {
          "base_uri": "https://localhost:8080/"
        },
        "id": "0QoD-PzUNZrq",
        "outputId": "765c4a7b-538a-4f04-ef56-4490ce8a08a3"
      },
      "execution_count": 24,
      "outputs": [
        {
          "output_type": "stream",
          "name": "stdout",
          "text": [
            "     name  score\n",
            "0  Shannu     85\n",
            "1   Mandy     77\n",
            "2     Ram     92\n",
            "3     Jim     88\n",
            "4     Pam     95\n"
          ]
        },
        {
          "output_type": "stream",
          "name": "stderr",
          "text": [
            "<ipython-input-24-c90780f6b0a7>:12: FutureWarning: The frame.append method is deprecated and will be removed from pandas in a future version. Use pandas.concat instead.\n",
            "  new_df = df.append(k, ignore_index=True)\n"
          ]
        }
      ]
    },
    {
      "cell_type": "code",
      "source": [
        "#10)Write a Pandas program to sort the DataFrame first by 'name' in descending order, then by 'score' in ascending order.\n",
        "\n",
        "import pandas as pd\n",
        "\n",
        "\n",
        "exam_data = {'name': ['Arjun', 'Mandy', 'Dwight', 'Krishna', 'Pam'],\n",
        "             'score': [85, 77, 92, 88, 95]}\n",
        "\n",
        "df = pd.DataFrame(exam_data)\n",
        "\n",
        "sorted_df = df.sort_values(by=['name', 'score'], ascending=[False, True])\n",
        "\n",
        "print(sorted_df)\n",
        "\n"
      ],
      "metadata": {
        "colab": {
          "base_uri": "https://localhost:8080/"
        },
        "id": "LfBFuY44N3nl",
        "outputId": "ddc9ce4a-3a99-4609-ec5e-0c365f129bb1"
      },
      "execution_count": 26,
      "outputs": [
        {
          "output_type": "stream",
          "name": "stdout",
          "text": [
            "      name  score\n",
            "4      Pam     95\n",
            "1    Mandy     77\n",
            "3  Krishna     88\n",
            "2   Dwight     92\n",
            "0    Arjun     85\n"
          ]
        }
      ]
    },
    {
      "cell_type": "code",
      "source": [
        "#11)Write a Pandas program to replace the &#39;qualify&#39; column contains the values &#39;yes&#39; and&#39;no&#39; with True and False.\n",
        "\n",
        "import pandas as pd\n",
        "\n",
        "\n",
        "data = {'name': ['Krishna', 'Arjuna', 'Nakhula', 'Sahadaev', 'Bheema'],\n",
        "        'score': [85, 77, 92, 88, 95],\n",
        "        'qualify': ['yes', 'no', 'yes', 'no', 'yes']}\n",
        "\n",
        "df = pd.DataFrame(data)\n",
        "\n",
        "df['qualify'] = df['qualify'].replace({'yes': True, 'no': False})\n",
        "\n",
        "print(df)\n",
        "\n"
      ],
      "metadata": {
        "colab": {
          "base_uri": "https://localhost:8080/"
        },
        "id": "--5a0xSJOo1Y",
        "outputId": "412f03c0-9068-44e6-ede6-bd4cc3fd3070"
      },
      "execution_count": 27,
      "outputs": [
        {
          "output_type": "stream",
          "name": "stdout",
          "text": [
            "       name  score  qualify\n",
            "0   Krishna     85     True\n",
            "1    Arjuna     77    False\n",
            "2   Nakhula     92     True\n",
            "3  Sahadaev     88    False\n",
            "4    Bheema     95     True\n"
          ]
        }
      ]
    },
    {
      "cell_type": "code",
      "source": [
        "#12)Write a Pandas program to remove infinite values from a given DataFrame.\n",
        "\n",
        "import pandas as pd\n",
        "import numpy as np\n",
        "\n",
        "\n",
        "df = pd.DataFrame([1000, 2000, np.inf, -np.inf, np.nan, 4000])\n",
        "\n",
        "def remove_infinite_values(df):\n",
        "    return df.replace([np.inf, -np.inf], np.nan).dropna()\n",
        "\n",
        "cleaned_df = remove_infinite_values(df.copy())\n",
        "print(cleaned_df)\n",
        "\n"
      ],
      "metadata": {
        "colab": {
          "base_uri": "https://localhost:8080/"
        },
        "id": "ihsJsF9GPUK3",
        "outputId": "8cb9f916-da6f-43ff-a6dc-40a2c1de88ea"
      },
      "execution_count": 21,
      "outputs": [
        {
          "output_type": "stream",
          "name": "stdout",
          "text": [
            "        0\n",
            "0  1000.0\n",
            "1  2000.0\n",
            "5  4000.0\n"
          ]
        }
      ]
    }
  ]
}